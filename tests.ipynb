{
 "cells": [
  {
   "cell_type": "code",
   "execution_count": 42,
   "metadata": {},
   "outputs": [],
   "source": [
    "from sql_connection import AzureSQLDatabaseConnection"
   ]
  },
  {
   "cell_type": "code",
   "execution_count": 43,
   "metadata": {},
   "outputs": [],
   "source": [
    "azure_sql_database_connection = AzureSQLDatabaseConnection(\n",
    "    sql_server = \"server-hotel\",\n",
    "    sql_db = \"hotel\",\n",
    "    sql_username = \"ctadmin\",\n",
    "    sql_pwd = \"Hoteles123\",\n",
    "    driver = \"{ODBC Driver 17 for SQL Server}\"\n",
    ")"
   ]
  },
  {
   "cell_type": "code",
   "execution_count": 28,
   "metadata": {},
   "outputs": [],
   "source": [
    "disponibilidad = azure_sql_database_connection.run_query(\"SELECT * FROM disponibilidad\")"
   ]
  },
  {
   "cell_type": "code",
   "execution_count": 29,
   "metadata": {},
   "outputs": [],
   "source": [
    "habitaciones = azure_sql_database_connection.run_query(\"SELECT * FROM habitaciones\")"
   ]
  },
  {
   "cell_type": "code",
   "execution_count": 33,
   "metadata": {},
   "outputs": [
    {
     "data": {
      "text/plain": [
       "Index(['ID_Habitacion', 'Tipo_Habitacion', 'Descripcion', 'Link'], dtype='object')"
      ]
     },
     "execution_count": 33,
     "metadata": {},
     "output_type": "execute_result"
    }
   ],
   "source": [
    "habitaciones.columns"
   ]
  },
  {
   "cell_type": "code",
   "execution_count": 34,
   "metadata": {},
   "outputs": [
    {
     "data": {
      "text/plain": [
       "Index(['ID_Habitacion', 'Tipo_Habitacion', 'Fecha_Entrada', 'Fecha_Salida',\n",
       "       'Precio'],\n",
       "      dtype='object')"
      ]
     },
     "execution_count": 34,
     "metadata": {},
     "output_type": "execute_result"
    }
   ],
   "source": [
    "disponibilidad.columns"
   ]
  },
  {
   "cell_type": "code",
   "execution_count": 39,
   "metadata": {},
   "outputs": [
    {
     "data": {
      "text/plain": [
       "Index(['ID_Habitacion', 'ID_Servicio'], dtype='object')"
      ]
     },
     "execution_count": 39,
     "metadata": {},
     "output_type": "execute_result"
    }
   ],
   "source": [
    "azure_sql_database_connection.run_query(\"SELECT * FROM servicios_por_habitacion\").columns"
   ]
  },
  {
   "cell_type": "code",
   "execution_count": 49,
   "metadata": {},
   "outputs": [
    {
     "data": {
      "text/html": [
       "<div>\n",
       "<style scoped>\n",
       "    .dataframe tbody tr th:only-of-type {\n",
       "        vertical-align: middle;\n",
       "    }\n",
       "\n",
       "    .dataframe tbody tr th {\n",
       "        vertical-align: top;\n",
       "    }\n",
       "\n",
       "    .dataframe thead th {\n",
       "        text-align: right;\n",
       "    }\n",
       "</style>\n",
       "<table border=\"1\" class=\"dataframe\">\n",
       "  <thead>\n",
       "    <tr style=\"text-align: right;\">\n",
       "      <th></th>\n",
       "      <th>ID_Habitacion</th>\n",
       "      <th>Tipo_Habitacion</th>\n",
       "      <th>Descripcion</th>\n",
       "      <th>Link</th>\n",
       "      <th>Fecha_Entrada</th>\n",
       "      <th>Fecha_Salida</th>\n",
       "    </tr>\n",
       "  </thead>\n",
       "  <tbody>\n",
       "    <tr>\n",
       "      <th>0</th>\n",
       "      <td>6</td>\n",
       "      <td>Junior Suite</td>\n",
       "      <td>LA HABITACIÓN PANORÁMICA. Su ubicación en la p...</td>\n",
       "      <td>https://www.hotelplayagolf.com/es/hotelplayago...</td>\n",
       "      <td>2023-11-02</td>\n",
       "      <td>2023-11-13</td>\n",
       "    </tr>\n",
       "  </tbody>\n",
       "</table>\n",
       "</div>"
      ],
      "text/plain": [
       "   ID_Habitacion Tipo_Habitacion  \\\n",
       "0              6    Junior Suite   \n",
       "\n",
       "                                         Descripcion  \\\n",
       "0  LA HABITACIÓN PANORÁMICA. Su ubicación en la p...   \n",
       "\n",
       "                                                Link Fecha_Entrada  \\\n",
       "0  https://www.hotelplayagolf.com/es/hotelplayago...    2023-11-02   \n",
       "\n",
       "  Fecha_Salida  \n",
       "0   2023-11-13  "
      ]
     },
     "execution_count": 49,
     "metadata": {},
     "output_type": "execute_result"
    }
   ],
   "source": [
    "azure_sql_database_connection.run_query(\n",
    "    \"\"\"\n",
    "    SELECT habitaciones.ID_Habitacion, habitaciones.Tipo_Habitacion, habitaciones.Descripcion, habitaciones.Link, disponibilidad.Fecha_Entrada, disponibilidad.Fecha_Salida\n",
    "    FROM habitaciones\n",
    "    INNER JOIN disponibilidad ON habitaciones.ID_Habitacion = disponibilidad.ID_Habitacion\n",
    "    WHERE disponibilidad.Fecha_Entrada <= '2023-11-04' AND disponibilidad.Fecha_Salida > '2023-11-04'\n",
    "    \"\"\"\n",
    ")"
   ]
  },
  {
   "cell_type": "code",
   "execution_count": 73,
   "metadata": {},
   "outputs": [
    {
     "data": {
      "text/html": [
       "<div>\n",
       "<style scoped>\n",
       "    .dataframe tbody tr th:only-of-type {\n",
       "        vertical-align: middle;\n",
       "    }\n",
       "\n",
       "    .dataframe tbody tr th {\n",
       "        vertical-align: top;\n",
       "    }\n",
       "\n",
       "    .dataframe thead th {\n",
       "        text-align: right;\n",
       "    }\n",
       "</style>\n",
       "<table border=\"1\" class=\"dataframe\">\n",
       "  <thead>\n",
       "    <tr style=\"text-align: right;\">\n",
       "      <th></th>\n",
       "      <th>Tipo_Habitacion</th>\n",
       "      <th>Link</th>\n",
       "    </tr>\n",
       "  </thead>\n",
       "  <tbody>\n",
       "    <tr>\n",
       "      <th>0</th>\n",
       "      <td>Doble Vista Mar Lateral</td>\n",
       "      <td>https://www.hotelplayagolf.com/es/hotelplayago...</td>\n",
       "    </tr>\n",
       "    <tr>\n",
       "      <th>1</th>\n",
       "      <td>Doble Vista Mar Frontal</td>\n",
       "      <td>https://www.hotelplayagolf.com/es/HotelPlayaGo...</td>\n",
       "    </tr>\n",
       "    <tr>\n",
       "      <th>2</th>\n",
       "      <td>Doble Superior Vista Mar</td>\n",
       "      <td>https://www.hotelplayagolf.com/es/hotelplayago...</td>\n",
       "    </tr>\n",
       "    <tr>\n",
       "      <th>3</th>\n",
       "      <td>Junior Suite Vista Mar</td>\n",
       "      <td>https://www.hotelplayagolf.com/es/hotelplayago...</td>\n",
       "    </tr>\n",
       "  </tbody>\n",
       "</table>\n",
       "</div>"
      ],
      "text/plain": [
       "            Tipo_Habitacion                                               Link\n",
       "0   Doble Vista Mar Lateral  https://www.hotelplayagolf.com/es/hotelplayago...\n",
       "1   Doble Vista Mar Frontal  https://www.hotelplayagolf.com/es/HotelPlayaGo...\n",
       "2  Doble Superior Vista Mar  https://www.hotelplayagolf.com/es/hotelplayago...\n",
       "3    Junior Suite Vista Mar  https://www.hotelplayagolf.com/es/hotelplayago..."
      ]
     },
     "execution_count": 73,
     "metadata": {},
     "output_type": "execute_result"
    }
   ],
   "source": [
    "azure_sql_database_connection.run_query(\n",
    "    \"\"\"\n",
    "    SELECT Tipo_Habitacion, Link\n",
    "    FROM habitaciones\n",
    "    WHERE Tipo_Habitacion LIKE '%Mar%'\n",
    "    \"\"\"\n",
    ")"
   ]
  },
  {
   "cell_type": "code",
   "execution_count": 76,
   "metadata": {},
   "outputs": [
    {
     "data": {
      "text/html": [
       "<div>\n",
       "<style scoped>\n",
       "    .dataframe tbody tr th:only-of-type {\n",
       "        vertical-align: middle;\n",
       "    }\n",
       "\n",
       "    .dataframe tbody tr th {\n",
       "        vertical-align: top;\n",
       "    }\n",
       "\n",
       "    .dataframe thead th {\n",
       "        text-align: right;\n",
       "    }\n",
       "</style>\n",
       "<table border=\"1\" class=\"dataframe\">\n",
       "  <thead>\n",
       "    <tr style=\"text-align: right;\">\n",
       "      <th></th>\n",
       "      <th>Tipo_Habitacion</th>\n",
       "      <th>Link</th>\n",
       "      <th>Precio</th>\n",
       "      <th>Fecha_Entrada</th>\n",
       "      <th>Fecha_Salida</th>\n",
       "    </tr>\n",
       "  </thead>\n",
       "  <tbody>\n",
       "    <tr>\n",
       "      <th>0</th>\n",
       "      <td>Doble Vista Mar Frontal</td>\n",
       "      <td>https://www.hotelplayagolf.com/es/HotelPlayaGo...</td>\n",
       "      <td>217€/noche</td>\n",
       "      <td>2023-12-23</td>\n",
       "      <td>2023-12-24</td>\n",
       "    </tr>\n",
       "    <tr>\n",
       "      <th>1</th>\n",
       "      <td>Doble Vista Mar Frontal</td>\n",
       "      <td>https://www.hotelplayagolf.com/es/HotelPlayaGo...</td>\n",
       "      <td>201€/noche</td>\n",
       "      <td>2023-12-05</td>\n",
       "      <td>2023-12-12</td>\n",
       "    </tr>\n",
       "    <tr>\n",
       "      <th>2</th>\n",
       "      <td>Doble Superior Vista Mar</td>\n",
       "      <td>https://www.hotelplayagolf.com/es/hotelplayago...</td>\n",
       "      <td>229€/noche</td>\n",
       "      <td>2023-12-16</td>\n",
       "      <td>2023-12-25</td>\n",
       "    </tr>\n",
       "    <tr>\n",
       "      <th>3</th>\n",
       "      <td>Junior Suite Vista Mar</td>\n",
       "      <td>https://www.hotelplayagolf.com/es/hotelplayago...</td>\n",
       "      <td>293€/noche</td>\n",
       "      <td>2023-12-24</td>\n",
       "      <td>2023-12-28</td>\n",
       "    </tr>\n",
       "    <tr>\n",
       "      <th>4</th>\n",
       "      <td>Doble Vista Mar Lateral</td>\n",
       "      <td>https://www.hotelplayagolf.com/es/hotelplayago...</td>\n",
       "      <td>208€/noche</td>\n",
       "      <td>2023-12-17</td>\n",
       "      <td>2023-12-24</td>\n",
       "    </tr>\n",
       "    <tr>\n",
       "      <th>5</th>\n",
       "      <td>Doble Vista Mar Lateral</td>\n",
       "      <td>https://www.hotelplayagolf.com/es/hotelplayago...</td>\n",
       "      <td>190€/noche</td>\n",
       "      <td>2023-12-17</td>\n",
       "      <td>2023-12-21</td>\n",
       "    </tr>\n",
       "    <tr>\n",
       "      <th>6</th>\n",
       "      <td>Doble Vista Mar Frontal</td>\n",
       "      <td>https://www.hotelplayagolf.com/es/HotelPlayaGo...</td>\n",
       "      <td>221€/noche</td>\n",
       "      <td>2023-12-19</td>\n",
       "      <td>2023-12-30</td>\n",
       "    </tr>\n",
       "    <tr>\n",
       "      <th>7</th>\n",
       "      <td>Doble Vista Mar Lateral</td>\n",
       "      <td>https://www.hotelplayagolf.com/es/hotelplayago...</td>\n",
       "      <td>194€/noche</td>\n",
       "      <td>2023-12-15</td>\n",
       "      <td>2023-12-27</td>\n",
       "    </tr>\n",
       "  </tbody>\n",
       "</table>\n",
       "</div>"
      ],
      "text/plain": [
       "            Tipo_Habitacion  \\\n",
       "0   Doble Vista Mar Frontal   \n",
       "1   Doble Vista Mar Frontal   \n",
       "2  Doble Superior Vista Mar   \n",
       "3    Junior Suite Vista Mar   \n",
       "4   Doble Vista Mar Lateral   \n",
       "5   Doble Vista Mar Lateral   \n",
       "6   Doble Vista Mar Frontal   \n",
       "7   Doble Vista Mar Lateral   \n",
       "\n",
       "                                                Link      Precio  \\\n",
       "0  https://www.hotelplayagolf.com/es/HotelPlayaGo...  217€/noche   \n",
       "1  https://www.hotelplayagolf.com/es/HotelPlayaGo...  201€/noche   \n",
       "2  https://www.hotelplayagolf.com/es/hotelplayago...  229€/noche   \n",
       "3  https://www.hotelplayagolf.com/es/hotelplayago...  293€/noche   \n",
       "4  https://www.hotelplayagolf.com/es/hotelplayago...  208€/noche   \n",
       "5  https://www.hotelplayagolf.com/es/hotelplayago...  190€/noche   \n",
       "6  https://www.hotelplayagolf.com/es/HotelPlayaGo...  221€/noche   \n",
       "7  https://www.hotelplayagolf.com/es/hotelplayago...  194€/noche   \n",
       "\n",
       "  Fecha_Entrada Fecha_Salida  \n",
       "0    2023-12-23   2023-12-24  \n",
       "1    2023-12-05   2023-12-12  \n",
       "2    2023-12-16   2023-12-25  \n",
       "3    2023-12-24   2023-12-28  \n",
       "4    2023-12-17   2023-12-24  \n",
       "5    2023-12-17   2023-12-21  \n",
       "6    2023-12-19   2023-12-30  \n",
       "7    2023-12-15   2023-12-27  "
      ]
     },
     "execution_count": 76,
     "metadata": {},
     "output_type": "execute_result"
    }
   ],
   "source": [
    "azure_sql_database_connection.run_query(\n",
    "\"\"\"\n",
    "SELECT h.Tipo_Habitacion, h.Link, d.Precio, d.Fecha_Entrada, d.Fecha_Salida\n",
    "FROM habitaciones h\n",
    "INNER JOIN disponibilidad d ON h.ID_Habitacion = d.ID_Habitacion\n",
    "WHERE h.Tipo_Habitacion LIKE '%Mar%'\n",
    "AND d.Fecha_Entrada >= '2023-12-01' AND d.Fecha_Salida <= '2023-12-31'\n",
    "\"\"\"\n",
    ")"
   ]
  },
  {
   "cell_type": "code",
   "execution_count": null,
   "metadata": {},
   "outputs": [],
   "source": []
  }
 ],
 "metadata": {
  "kernelspec": {
   "display_name": "base",
   "language": "python",
   "name": "python3"
  },
  "language_info": {
   "codemirror_mode": {
    "name": "ipython",
    "version": 3
   },
   "file_extension": ".py",
   "mimetype": "text/x-python",
   "name": "python",
   "nbconvert_exporter": "python",
   "pygments_lexer": "ipython3",
   "version": "3.9.12"
  },
  "orig_nbformat": 4
 },
 "nbformat": 4,
 "nbformat_minor": 2
}
