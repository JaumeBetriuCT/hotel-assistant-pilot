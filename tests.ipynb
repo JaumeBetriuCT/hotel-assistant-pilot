{
 "cells": [
  {
   "cell_type": "code",
   "execution_count": 42,
   "metadata": {},
   "outputs": [],
   "source": [
    "from sql_connection import AzureSQLDatabaseConnection"
   ]
  },
  {
   "cell_type": "code",
   "execution_count": 43,
   "metadata": {},
   "outputs": [],
   "source": [
    "azure_sql_database_connection = AzureSQLDatabaseConnection(\n",
    "    sql_server = \"server-hotel\",\n",
    "    sql_db = \"hotel\",\n",
    "    sql_username = \"ctadmin\",\n",
    "    sql_pwd = \"Hoteles123\",\n",
    "    driver = \"{ODBC Driver 17 for SQL Server}\"\n",
    ")"
   ]
  },
  {
   "cell_type": "code",
   "execution_count": 28,
   "metadata": {},
   "outputs": [],
   "source": [
    "disponibilidad = azure_sql_database_connection.run_query(\"SELECT * FROM disponibilidad\")"
   ]
  },
  {
   "cell_type": "code",
   "execution_count": 29,
   "metadata": {},
   "outputs": [],
   "source": [
    "habitaciones = azure_sql_database_connection.run_query(\"SELECT * FROM habitaciones\")"
   ]
  },
  {
   "cell_type": "code",
   "execution_count": 33,
   "metadata": {},
   "outputs": [
    {
     "data": {
      "text/plain": [
       "Index(['ID_Habitacion', 'Tipo_Habitacion', 'Descripcion', 'Link'], dtype='object')"
      ]
     },
     "execution_count": 33,
     "metadata": {},
     "output_type": "execute_result"
    }
   ],
   "source": [
    "habitaciones.columns"
   ]
  },
  {
   "cell_type": "code",
   "execution_count": 34,
   "metadata": {},
   "outputs": [
    {
     "data": {
      "text/plain": [
       "Index(['ID_Habitacion', 'Tipo_Habitacion', 'Fecha_Entrada', 'Fecha_Salida',\n",
       "       'Precio'],\n",
       "      dtype='object')"
      ]
     },
     "execution_count": 34,
     "metadata": {},
     "output_type": "execute_result"
    }
   ],
   "source": [
    "disponibilidad.columns"
   ]
  },
  {
   "cell_type": "code",
   "execution_count": 39,
   "metadata": {},
   "outputs": [
    {
     "data": {
      "text/plain": [
       "Index(['ID_Habitacion', 'ID_Servicio'], dtype='object')"
      ]
     },
     "execution_count": 39,
     "metadata": {},
     "output_type": "execute_result"
    }
   ],
   "source": [
    "azure_sql_database_connection.run_query(\"SELECT * FROM servicios_por_habitacion\").columns"
   ]
  },
  {
   "cell_type": "code",
   "execution_count": 49,
   "metadata": {},
   "outputs": [
    {
     "data": {
      "text/html": [
       "<div>\n",
       "<style scoped>\n",
       "    .dataframe tbody tr th:only-of-type {\n",
       "        vertical-align: middle;\n",
       "    }\n",
       "\n",
       "    .dataframe tbody tr th {\n",
       "        vertical-align: top;\n",
       "    }\n",
       "\n",
       "    .dataframe thead th {\n",
       "        text-align: right;\n",
       "    }\n",
       "</style>\n",
       "<table border=\"1\" class=\"dataframe\">\n",
       "  <thead>\n",
       "    <tr style=\"text-align: right;\">\n",
       "      <th></th>\n",
       "      <th>ID_Habitacion</th>\n",
       "      <th>Tipo_Habitacion</th>\n",
       "      <th>Descripcion</th>\n",
       "      <th>Link</th>\n",
       "      <th>Fecha_Entrada</th>\n",
       "      <th>Fecha_Salida</th>\n",
       "    </tr>\n",
       "  </thead>\n",
       "  <tbody>\n",
       "    <tr>\n",
       "      <th>0</th>\n",
       "      <td>6</td>\n",
       "      <td>Junior Suite</td>\n",
       "      <td>LA HABITACIÓN PANORÁMICA. Su ubicación en la p...</td>\n",
       "      <td>https://www.hotelplayagolf.com/es/hotelplayago...</td>\n",
       "      <td>2023-11-02</td>\n",
       "      <td>2023-11-13</td>\n",
       "    </tr>\n",
       "  </tbody>\n",
       "</table>\n",
       "</div>"
      ],
      "text/plain": [
       "   ID_Habitacion Tipo_Habitacion  \\\n",
       "0              6    Junior Suite   \n",
       "\n",
       "                                         Descripcion  \\\n",
       "0  LA HABITACIÓN PANORÁMICA. Su ubicación en la p...   \n",
       "\n",
       "                                                Link Fecha_Entrada  \\\n",
       "0  https://www.hotelplayagolf.com/es/hotelplayago...    2023-11-02   \n",
       "\n",
       "  Fecha_Salida  \n",
       "0   2023-11-13  "
      ]
     },
     "execution_count": 49,
     "metadata": {},
     "output_type": "execute_result"
    }
   ],
   "source": [
    "azure_sql_database_connection.run_query(\n",
    "    \"\"\"\n",
    "    SELECT habitaciones.ID_Habitacion, habitaciones.Tipo_Habitacion, habitaciones.Descripcion, habitaciones.Link, disponibilidad.Fecha_Entrada, disponibilidad.Fecha_Salida\n",
    "    FROM habitaciones\n",
    "    INNER JOIN disponibilidad ON habitaciones.ID_Habitacion = disponibilidad.ID_Habitacion\n",
    "    WHERE disponibilidad.Fecha_Entrada <= '2023-11-04' AND disponibilidad.Fecha_Salida > '2023-11-04'\n",
    "    \"\"\"\n",
    ")"
   ]
  },
  {
   "cell_type": "code",
   "execution_count": 79,
   "metadata": {},
   "outputs": [
    {
     "data": {
      "text/html": [
       "<div>\n",
       "<style scoped>\n",
       "    .dataframe tbody tr th:only-of-type {\n",
       "        vertical-align: middle;\n",
       "    }\n",
       "\n",
       "    .dataframe tbody tr th {\n",
       "        vertical-align: top;\n",
       "    }\n",
       "\n",
       "    .dataframe thead th {\n",
       "        text-align: right;\n",
       "    }\n",
       "</style>\n",
       "<table border=\"1\" class=\"dataframe\">\n",
       "  <thead>\n",
       "    <tr style=\"text-align: right;\">\n",
       "      <th></th>\n",
       "      <th>ID_Instalacion</th>\n",
       "      <th>Nombre_Instalacion</th>\n",
       "      <th>Descripcion</th>\n",
       "      <th>Horarios</th>\n",
       "    </tr>\n",
       "  </thead>\n",
       "  <tbody>\n",
       "    <tr>\n",
       "      <th>0</th>\n",
       "      <td>1</td>\n",
       "      <td>Gimnasio</td>\n",
       "      <td>Para no perder las rutinas y complementar la a...</td>\n",
       "      <td>7:00-22:00</td>\n",
       "    </tr>\n",
       "    <tr>\n",
       "      <th>1</th>\n",
       "      <td>2</td>\n",
       "      <td>Piscina</td>\n",
       "      <td>Tenemos dos piscinas muy cerquita de la Playa ...</td>\n",
       "      <td>8:00-20:00</td>\n",
       "    </tr>\n",
       "    <tr>\n",
       "      <th>2</th>\n",
       "      <td>3</td>\n",
       "      <td>Restaurante</td>\n",
       "      <td>Un estupendo restaurante buffet les espera par...</td>\n",
       "      <td>desayuno de 8:00-10:00, comida de 13:00-15:00 ...</td>\n",
       "    </tr>\n",
       "    <tr>\n",
       "      <th>3</th>\n",
       "      <td>4</td>\n",
       "      <td>Spa</td>\n",
       "      <td>La combinación ideal de modernas instalaciones...</td>\n",
       "      <td>mañanas de 9:00-14:00 y tardes de 15:00-18:00</td>\n",
       "    </tr>\n",
       "  </tbody>\n",
       "</table>\n",
       "</div>"
      ],
      "text/plain": [
       "   ID_Instalacion Nombre_Instalacion  \\\n",
       "0               1           Gimnasio   \n",
       "1               2            Piscina   \n",
       "2               3        Restaurante   \n",
       "3               4                Spa   \n",
       "\n",
       "                                         Descripcion  \\\n",
       "0  Para no perder las rutinas y complementar la a...   \n",
       "1  Tenemos dos piscinas muy cerquita de la Playa ...   \n",
       "2  Un estupendo restaurante buffet les espera par...   \n",
       "3  La combinación ideal de modernas instalaciones...   \n",
       "\n",
       "                                            Horarios  \n",
       "0                                         7:00-22:00  \n",
       "1                                         8:00-20:00  \n",
       "2  desayuno de 8:00-10:00, comida de 13:00-15:00 ...  \n",
       "3      mañanas de 9:00-14:00 y tardes de 15:00-18:00  "
      ]
     },
     "execution_count": 79,
     "metadata": {},
     "output_type": "execute_result"
    }
   ],
   "source": [
    "azure_sql_database_connection.run_query(\n",
    "    \"\"\"\n",
    "    SELECT *\n",
    "    FROM instalaciones\n",
    "    \"\"\"\n",
    ")"
   ]
  },
  {
   "cell_type": "code",
   "execution_count": 80,
   "metadata": {},
   "outputs": [
    {
     "data": {
      "text/html": [
       "<div>\n",
       "<style scoped>\n",
       "    .dataframe tbody tr th:only-of-type {\n",
       "        vertical-align: middle;\n",
       "    }\n",
       "\n",
       "    .dataframe tbody tr th {\n",
       "        vertical-align: top;\n",
       "    }\n",
       "\n",
       "    .dataframe thead th {\n",
       "        text-align: right;\n",
       "    }\n",
       "</style>\n",
       "<table border=\"1\" class=\"dataframe\">\n",
       "  <thead>\n",
       "    <tr style=\"text-align: right;\">\n",
       "      <th></th>\n",
       "      <th>ID</th>\n",
       "      <th>Descripcion</th>\n",
       "      <th>Direccion</th>\n",
       "      <th>Contacto</th>\n",
       "    </tr>\n",
       "  </thead>\n",
       "  <tbody>\n",
       "    <tr>\n",
       "      <th>0</th>\n",
       "      <td>1</td>\n",
       "      <td>DESCONEXIÓN MEDITERRÁNEA. UN REMANSO DE CALMA ...</td>\n",
       "      <td>Carretera del Arenal, 45 Tel. 07600 Playa de P...</td>\n",
       "      <td>+34 971 262 650 o info@hotelplayagolf.com</td>\n",
       "    </tr>\n",
       "  </tbody>\n",
       "</table>\n",
       "</div>"
      ],
      "text/plain": [
       "   ID                                        Descripcion  \\\n",
       "0   1  DESCONEXIÓN MEDITERRÁNEA. UN REMANSO DE CALMA ...   \n",
       "\n",
       "                                           Direccion  \\\n",
       "0  Carretera del Arenal, 45 Tel. 07600 Playa de P...   \n",
       "\n",
       "                                    Contacto  \n",
       "0  +34 971 262 650 o info@hotelplayagolf.com  "
      ]
     },
     "execution_count": 80,
     "metadata": {},
     "output_type": "execute_result"
    }
   ],
   "source": [
    "azure_sql_database_connection.run_query(\n",
    "\"\"\"\n",
    "SELECT *\n",
    "FROM informacion_general\n",
    "\"\"\"\n",
    ")"
   ]
  },
  {
   "cell_type": "code",
   "execution_count": null,
   "metadata": {},
   "outputs": [],
   "source": []
  },
  {
   "cell_type": "code",
   "execution_count": null,
   "metadata": {},
   "outputs": [],
   "source": []
  }
 ],
 "metadata": {
  "kernelspec": {
   "display_name": "base",
   "language": "python",
   "name": "python3"
  },
  "language_info": {
   "codemirror_mode": {
    "name": "ipython",
    "version": 3
   },
   "file_extension": ".py",
   "mimetype": "text/x-python",
   "name": "python",
   "nbconvert_exporter": "python",
   "pygments_lexer": "ipython3",
   "version": "3.9.12"
  },
  "orig_nbformat": 4
 },
 "nbformat": 4,
 "nbformat_minor": 2
}
